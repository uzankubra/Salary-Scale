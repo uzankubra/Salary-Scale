{
 "cells": [
  {
   "cell_type": "markdown",
   "id": "04637f93",
   "metadata": {},
   "source": [
    "# Polynomial linear regression \n",
    "\n",
    "\n",
    "y= a + b1x + b2(x^2) + b3(x^3) + ....bn+(x^n)"
   ]
  },
  {
   "cell_type": "markdown",
   "id": "dcba56c4",
   "metadata": {},
   "source": [
    "bir ara yönetici tanımlayalım ve bu yöneticinin seviyesi region manager ile country arasında olsun yani 4.5\n"
   ]
  },
  {
   "cell_type": "code",
   "execution_count": 13,
   "id": "dc70efee",
   "metadata": {},
   "outputs": [
    {
     "name": "stderr",
     "output_type": "stream",
     "text": [
      "C:\\Users\\kubra\\AppData\\Local\\Programs\\Python\\Python310\\lib\\site-packages\\IPython\\core\\interactiveshell.py:3251: FutureWarning: In a future version of pandas all arguments of read_csv except for the argument 'filepath_or_buffer' will be keyword-only.\n",
      "  exec(code_obj, self.user_global_ns, self.user_ns)\n"
     ]
    }
   ],
   "source": [
    "import pandas as pd \n",
    "import matplotlib.pyplot as plt\n",
    "from sklearn.linear_model import LinearRegression\n",
    "from sklearn.preprocessing import PolynomialFeatures\n",
    "\n",
    "df= pd.read_csv(\"polynomial.csv\", \";\")\n",
    "\n"
   ]
  },
  {
   "cell_type": "code",
   "execution_count": 15,
   "id": "b756d22f",
   "metadata": {},
   "outputs": [
    {
     "data": {
      "text/html": [
       "<div>\n",
       "<style scoped>\n",
       "    .dataframe tbody tr th:only-of-type {\n",
       "        vertical-align: middle;\n",
       "    }\n",
       "\n",
       "    .dataframe tbody tr th {\n",
       "        vertical-align: top;\n",
       "    }\n",
       "\n",
       "    .dataframe thead th {\n",
       "        text-align: right;\n",
       "    }\n",
       "</style>\n",
       "<table border=\"1\" class=\"dataframe\">\n",
       "  <thead>\n",
       "    <tr style=\"text-align: right;\">\n",
       "      <th></th>\n",
       "      <th>deneyim</th>\n",
       "      <th>maas</th>\n",
       "    </tr>\n",
       "  </thead>\n",
       "  <tbody>\n",
       "    <tr>\n",
       "      <th>0</th>\n",
       "      <td>1</td>\n",
       "      <td>4500</td>\n",
       "    </tr>\n",
       "    <tr>\n",
       "      <th>1</th>\n",
       "      <td>2</td>\n",
       "      <td>5000</td>\n",
       "    </tr>\n",
       "    <tr>\n",
       "      <th>2</th>\n",
       "      <td>3</td>\n",
       "      <td>6000</td>\n",
       "    </tr>\n",
       "    <tr>\n",
       "      <th>3</th>\n",
       "      <td>4</td>\n",
       "      <td>8000</td>\n",
       "    </tr>\n",
       "    <tr>\n",
       "      <th>4</th>\n",
       "      <td>5</td>\n",
       "      <td>11000</td>\n",
       "    </tr>\n",
       "    <tr>\n",
       "      <th>5</th>\n",
       "      <td>6</td>\n",
       "      <td>15000</td>\n",
       "    </tr>\n",
       "    <tr>\n",
       "      <th>6</th>\n",
       "      <td>7</td>\n",
       "      <td>20000</td>\n",
       "    </tr>\n",
       "    <tr>\n",
       "      <th>7</th>\n",
       "      <td>8</td>\n",
       "      <td>30000</td>\n",
       "    </tr>\n",
       "    <tr>\n",
       "      <th>8</th>\n",
       "      <td>9</td>\n",
       "      <td>50000</td>\n",
       "    </tr>\n",
       "    <tr>\n",
       "      <th>9</th>\n",
       "      <td>10</td>\n",
       "      <td>100000</td>\n",
       "    </tr>\n",
       "  </tbody>\n",
       "</table>\n",
       "</div>"
      ],
      "text/plain": [
       "   deneyim    maas\n",
       "0        1    4500\n",
       "1        2    5000\n",
       "2        3    6000\n",
       "3        4    8000\n",
       "4        5   11000\n",
       "5        6   15000\n",
       "6        7   20000\n",
       "7        8   30000\n",
       "8        9   50000\n",
       "9       10  100000"
      ]
     },
     "execution_count": 15,
     "metadata": {},
     "output_type": "execute_result"
    }
   ],
   "source": [
    "df"
   ]
  },
  {
   "cell_type": "code",
   "execution_count": 16,
   "id": "d90196ea",
   "metadata": {},
   "outputs": [
    {
     "data": {
      "image/png": "[encoded data removed]",
      "text/plain": [
       "<Figure size 432x288 with 1 Axes>"
      ]
     },
     "metadata": {
      "needs_background": "light"
     },
     "output_type": "display_data"
    }
   ],
   "source": [
    "plt.scatter(df['deneyim'],df['maas'])\n",
    "\n",
    "plt.xlabel('Deneyim(yıl)')\n",
    "plt.ylabel('Maaş')\n",
    "\n",
    "plt.show()"
   ]
  },
  {
   "cell_type": "code",
   "execution_count": 18,
   "id": "b54db64c",
   "metadata": {},
   "outputs": [
    {
     "data": {
      "image/png": "[encoded data removed]",
      "text/plain": [
       "<Figure size 432x288 with 1 Axes>"
      ]
     },
     "metadata": {
      "needs_background": "light"
     },
     "output_type": "display_data"
    }
   ],
   "source": [
    "#veriler dogrusal yapıda dağılmıyorsa ve biz bu veri setine lineer model uygularsak hiç uygun olmayan bir tahmin çizgisi görürüz\n",
    "\n",
    "reg= LinearRegression()\n",
    "reg.fit(df[['deneyim']], df['maas'])\n",
    "\n",
    "plt.xlabel('Deneyim(yıl)')\n",
    "plt.ylabel('Maaş')\n",
    "\n",
    "plt.scatter(df['deneyim'],df['maas'])\n",
    "\n",
    "x_ekseni=df['deneyim']\n",
    "y_ekseni=reg.predict(df[['deneyim']])\n",
    "\n",
    "plt.plot(x_ekseni, y_ekseni, color=\"green\", label=\"Linear Regression\")\n",
    "plt.legend()\n",
    "plt.show()\n",
    "\n"
   ]
  },
  {
   "cell_type": "markdown",
   "id": "b085dd94",
   "metadata": {},
   "source": [
    "Polynomial regression uygulamaya karar verdik."
   ]
  },
  {
   "cell_type": "code",
   "execution_count": 26,
   "id": "bbe51c3b",
   "metadata": {},
   "outputs": [
    {
     "data": {
      "text/plain": [
       "LinearRegression()"
      ]
     },
     "execution_count": 26,
     "metadata": {},
     "output_type": "execute_result"
    }
   ],
   "source": [
    "\n",
    "polynomial_regression= PolynomialFeatures(degree = 4)\n",
    "x_polynomial = polynomial_regression.fit_transform(df[['deneyim']])\n",
    "\n",
    "reg= LinearRegression()\n",
    "reg.fit(x_polynomial, df['maas'])"
   ]
  },
  {
   "cell_type": "markdown",
   "id": "84450825",
   "metadata": {},
   "source": [
    "Model artık hazır ve eğitilmiş, eldeki verilere göre modelimiz nasıl bir sonuç grafiği oluşturuyor görelim."
   ]
  },
  {
   "cell_type": "code",
   "execution_count": 27,
   "id": "2ff9d6a0",
   "metadata": {},
   "outputs": [
    {
     "data": {
      "image/png": "[encoded data removed]",
      "text/plain": [
       "<Figure size 432x288 with 1 Axes>"
      ]
     },
     "metadata": {
      "needs_background": "light"
     },
     "output_type": "display_data"
    }
   ],
   "source": [
    "y_head= reg.predict(x_polynomial)\n",
    "plt.plot(df['deneyim'],y_head, color=\"red\", label=\"polynomial regression \")\n",
    "plt.legend()\n",
    "plt.scatter(df['deneyim'],df['maas'])\n",
    "plt.show()\n"
   ]
  },
  {
   "cell_type": "markdown",
   "id": "03aff071",
   "metadata": {},
   "source": [
    "Simdi n=3 ve n=4 icin yapmaya calısalım. En iyi sonucu 4 ile bulduk. peki neden hep n degerini en yuksek secmemeliyiz?\n",
    "İslemciyi yormamak icin n icin zamandan tasarruf saglayacak ve cpu yormayacak en uygun degeri secmeliyiz"
   ]
  },
  {
   "cell_type": "code",
   "execution_count": 28,
   "id": "a320362c",
   "metadata": {},
   "outputs": [
    {
     "data": {
      "text/plain": [
       "array([10958.21496211])"
      ]
     },
     "execution_count": 28,
     "metadata": {},
     "output_type": "execute_result"
    }
   ],
   "source": [
    "x_polynomial1=polynomial_regression.fit_transform([[4.5]])\n",
    "reg.predict(x_polynomial1)"
   ]
  },
  {
   "cell_type": "code",
   "execution_count": null,
   "id": "c002ead5",
   "metadata": {},
   "outputs": [],
   "source": []
  }
 ],
 "metadata": {
  "kernelspec": {
   "display_name": "Python 3 (ipykernel)",
   "language": "python",
   "name": "python3"
  },
  "language_info": {
   "codemirror_mode": {
    "name": "ipython",
    "version": 3
   },
   "file_extension": ".py",
   "mimetype": "text/x-python",
   "name": "python",
   "nbconvert_exporter": "python",
   "pygments_lexer": "ipython3",
   "version": "3.10.4"
  }
 },
 "nbformat": 4,
 "nbformat_minor": 5
}
